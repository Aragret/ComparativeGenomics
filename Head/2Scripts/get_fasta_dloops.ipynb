{
 "cells": [
  {
   "cell_type": "code",
   "execution_count": 1,
   "metadata": {},
   "outputs": [],
   "source": [
    "import pandas as pd"
   ]
  },
  {
   "cell_type": "code",
   "execution_count": 13,
   "metadata": {},
   "outputs": [],
   "source": [
    "df = pd.read_table('../../Body/2Derived/dloops_control_regions.txt', sep='\\t', index_col=False)"
   ]
  },
  {
   "cell_type": "code",
   "execution_count": 14,
   "metadata": {},
   "outputs": [
    {
     "data": {
      "text/html": [
       "<div>\n",
       "<style scoped>\n",
       "    .dataframe tbody tr th:only-of-type {\n",
       "        vertical-align: middle;\n",
       "    }\n",
       "\n",
       "    .dataframe tbody tr th {\n",
       "        vertical-align: top;\n",
       "    }\n",
       "\n",
       "    .dataframe thead th {\n",
       "        text-align: right;\n",
       "    }\n",
       "</style>\n",
       "<table border=\"1\" class=\"dataframe\">\n",
       "  <thead>\n",
       "    <tr style=\"text-align: right;\">\n",
       "      <th></th>\n",
       "      <th>Species</th>\n",
       "      <th>Feature_name</th>\n",
       "      <th>Feature_location</th>\n",
       "      <th>Strand</th>\n",
       "      <th>Sequence</th>\n",
       "      <th>Notes</th>\n",
       "    </tr>\n",
       "  </thead>\n",
       "  <tbody>\n",
       "    <tr>\n",
       "      <th>0</th>\n",
       "      <td>Eptatretus_burgeri</td>\n",
       "      <td>dloop</td>\n",
       "      <td>[12687:14545](+)</td>\n",
       "      <td>1</td>\n",
       "      <td>CTCTACTATAAAAACCAAACCTTAATCGTTTGATTTTATCACCAAC...</td>\n",
       "      <td>NaN</td>\n",
       "    </tr>\n",
       "    <tr>\n",
       "      <th>1</th>\n",
       "      <td>Myxine_glutinosa</td>\n",
       "      <td>dloop</td>\n",
       "      <td>[12667:16295](+)</td>\n",
       "      <td>1</td>\n",
       "      <td>CTTCACTACCTATATTGCCCCACCCACCTTTTTGAGGGTGGGTGGG...</td>\n",
       "      <td>NaN</td>\n",
       "    </tr>\n",
       "    <tr>\n",
       "      <th>2</th>\n",
       "      <td>Leucoraja_erinacea</td>\n",
       "      <td>dloop</td>\n",
       "      <td>[15664:16724](+)</td>\n",
       "      <td>1</td>\n",
       "      <td>AAATATATCAGTACTAACTGGGCGACAATTTCGCCCTACTTAGTCA...</td>\n",
       "      <td>NaN</td>\n",
       "    </tr>\n",
       "    <tr>\n",
       "      <th>3</th>\n",
       "      <td>Heterodontus_francisci</td>\n",
       "      <td>control region</td>\n",
       "      <td>[15640:16708](+)</td>\n",
       "      <td>1</td>\n",
       "      <td>GTAGTTATTAAAGCATTAAAATCGTGTTAAAAAACATGATTTTTAT...</td>\n",
       "      <td>control annotated as misc_feature</td>\n",
       "    </tr>\n",
       "    <tr>\n",
       "      <th>4</th>\n",
       "      <td>Squalus_acanthias</td>\n",
       "      <td>control region</td>\n",
       "      <td>[15658:16738](+)</td>\n",
       "      <td>1</td>\n",
       "      <td>AATGTTAAAATCACGCTAAAATGTGATTTTTTAAAAGTAAGTCAGT...</td>\n",
       "      <td>control annotated as misc_feature</td>\n",
       "    </tr>\n",
       "  </tbody>\n",
       "</table>\n",
       "</div>"
      ],
      "text/plain": [
       "                  Species    Feature_name  Feature_location  Strand  \\\n",
       "0      Eptatretus_burgeri           dloop  [12687:14545](+)       1   \n",
       "1        Myxine_glutinosa           dloop  [12667:16295](+)       1   \n",
       "2      Leucoraja_erinacea           dloop  [15664:16724](+)       1   \n",
       "3  Heterodontus_francisci  control region  [15640:16708](+)       1   \n",
       "4       Squalus_acanthias  control region  [15658:16738](+)       1   \n",
       "\n",
       "                                            Sequence  \\\n",
       "0  CTCTACTATAAAAACCAAACCTTAATCGTTTGATTTTATCACCAAC...   \n",
       "1  CTTCACTACCTATATTGCCCCACCCACCTTTTTGAGGGTGGGTGGG...   \n",
       "2  AAATATATCAGTACTAACTGGGCGACAATTTCGCCCTACTTAGTCA...   \n",
       "3  GTAGTTATTAAAGCATTAAAATCGTGTTAAAAAACATGATTTTTAT...   \n",
       "4  AATGTTAAAATCACGCTAAAATGTGATTTTTTAAAAGTAAGTCAGT...   \n",
       "\n",
       "                               Notes  \n",
       "0                                NaN  \n",
       "1                                NaN  \n",
       "2                                NaN  \n",
       "3  control annotated as misc_feature  \n",
       "4  control annotated as misc_feature  "
      ]
     },
     "execution_count": 14,
     "metadata": {},
     "output_type": "execute_result"
    }
   ],
   "source": [
    "df.head()"
   ]
  },
  {
   "cell_type": "code",
   "execution_count": 15,
   "metadata": {},
   "outputs": [],
   "source": [
    "with open('../../Body/2Derived/dloops.fa', 'w') as outfile:\n",
    "    for i in range(df.shape[0]):\n",
    "        outfile.write('>{0}_{1}\\n{2}\\n'.format(df.Species[i], df.Feature_name[i], df.Sequence[i]))"
   ]
  },
  {
   "cell_type": "code",
   "execution_count": null,
   "metadata": {},
   "outputs": [],
   "source": []
  },
  {
   "cell_type": "code",
   "execution_count": null,
   "metadata": {},
   "outputs": [],
   "source": []
  }
 ],
 "metadata": {
  "kernelspec": {
   "display_name": "Python 3",
   "language": "python",
   "name": "python3"
  },
  "language_info": {
   "codemirror_mode": {
    "name": "ipython",
    "version": 3
   },
   "file_extension": ".py",
   "mimetype": "text/x-python",
   "name": "python",
   "nbconvert_exporter": "python",
   "pygments_lexer": "ipython3",
   "version": "3.7.1"
  }
 },
 "nbformat": 4,
 "nbformat_minor": 2
}
